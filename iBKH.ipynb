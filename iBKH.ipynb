{
 "cells": [
  {
   "cell_type": "code",
   "execution_count": 1,
   "id": "eddedb24-455c-40ba-9c5d-ec079b96a5c9",
   "metadata": {
    "executionInfo": {
     "elapsed": 14478,
     "status": "ok",
     "timestamp": 1721324659806,
     "user": {
      "displayName": "TSU-NENG wang",
      "userId": "10252927790904004821"
     },
     "user_tz": -480
    },
    "id": "eddedb24-455c-40ba-9c5d-ec079b96a5c9"
   },
   "outputs": [
    {
     "name": "stdout",
     "output_type": "stream",
     "text": [
      "\u001b[33mDEPRECATION: Loading egg at /Users/JerryYaw/anaconda3/lib/python3.11/site-packages/cyvcf2-0.30.28-py3.11-macosx-10.9-x86_64.egg is deprecated. pip 23.3 will enforce this behaviour change. A possible replacement is to use pip for package installation..\u001b[0m\u001b[33m\n",
      "\u001b[0m\u001b[33mDEPRECATION: Loading egg at /Users/JerryYaw/anaconda3/lib/python3.11/site-packages/MetaXcan-0.7.5-py3.11.egg is deprecated. pip 23.3 will enforce this behaviour change. A possible replacement is to use pip for package installation..\u001b[0m\u001b[33m\n",
      "\u001b[0m\u001b[33mDEPRECATION: Loading egg at /Users/JerryYaw/anaconda3/lib/python3.11/site-packages/h5py_cache-1.0-py3.11.egg is deprecated. pip 23.3 will enforce this behaviour change. A possible replacement is to use pip for package installation..\u001b[0m\u001b[33m\n",
      "\u001b[0m\u001b[33mDEPRECATION: Loading egg at /Users/JerryYaw/anaconda3/lib/python3.11/site-packages/bgen_reader-4.0.8-py3.11.egg is deprecated. pip 23.3 will enforce this behaviour change. A possible replacement is to use pip for package installation..\u001b[0m\u001b[33m\n",
      "\u001b[0m"
     ]
    }
   ],
   "source": [
    "!pip install --upgrade --quiet  langchain langchain-community langchain-openai neo4j streamlit pyngrok"
   ]
  },
  {
   "cell_type": "code",
   "execution_count": 2,
   "id": "a50965d9-b33f-4f15-a42f-d5f766e5088f",
   "metadata": {},
   "outputs": [
    {
     "name": "stdout",
     "output_type": "stream",
     "text": [
      "\u001b[33mDEPRECATION: Loading egg at /Users/JerryYaw/anaconda3/lib/python3.11/site-packages/cyvcf2-0.30.28-py3.11-macosx-10.9-x86_64.egg is deprecated. pip 23.3 will enforce this behaviour change. A possible replacement is to use pip for package installation..\u001b[0m\u001b[33m\n",
      "\u001b[0m\u001b[33mDEPRECATION: Loading egg at /Users/JerryYaw/anaconda3/lib/python3.11/site-packages/MetaXcan-0.7.5-py3.11.egg is deprecated. pip 23.3 will enforce this behaviour change. A possible replacement is to use pip for package installation..\u001b[0m\u001b[33m\n",
      "\u001b[0m\u001b[33mDEPRECATION: Loading egg at /Users/JerryYaw/anaconda3/lib/python3.11/site-packages/h5py_cache-1.0-py3.11.egg is deprecated. pip 23.3 will enforce this behaviour change. A possible replacement is to use pip for package installation..\u001b[0m\u001b[33m\n",
      "\u001b[0m\u001b[33mDEPRECATION: Loading egg at /Users/JerryYaw/anaconda3/lib/python3.11/site-packages/bgen_reader-4.0.8-py3.11.egg is deprecated. pip 23.3 will enforce this behaviour change. A possible replacement is to use pip for package installation..\u001b[0m\u001b[33m\n",
      "\u001b[0mRequirement already satisfied: langchainhub in /Users/JerryYaw/anaconda3/lib/python3.11/site-packages (0.1.20)\n",
      "Requirement already satisfied: packaging<25,>=23.2 in /Users/JerryYaw/anaconda3/lib/python3.11/site-packages (from langchainhub) (23.2)\n",
      "Requirement already satisfied: requests<3,>=2 in /Users/JerryYaw/anaconda3/lib/python3.11/site-packages (from langchainhub) (2.31.0)\n",
      "Requirement already satisfied: types-requests<3.0.0.0,>=2.31.0.2 in /Users/JerryYaw/anaconda3/lib/python3.11/site-packages (from langchainhub) (2.32.0.20240712)\n",
      "Requirement already satisfied: charset-normalizer<4,>=2 in /Users/JerryYaw/anaconda3/lib/python3.11/site-packages (from requests<3,>=2->langchainhub) (2.0.4)\n",
      "Requirement already satisfied: idna<4,>=2.5 in /Users/JerryYaw/anaconda3/lib/python3.11/site-packages (from requests<3,>=2->langchainhub) (3.4)\n",
      "Requirement already satisfied: urllib3<3,>=1.21.1 in /Users/JerryYaw/anaconda3/lib/python3.11/site-packages (from requests<3,>=2->langchainhub) (2.0.7)\n",
      "Requirement already satisfied: certifi>=2017.4.17 in /Users/JerryYaw/anaconda3/lib/python3.11/site-packages (from requests<3,>=2->langchainhub) (2024.2.2)\n"
     ]
    }
   ],
   "source": [
    "!pip install langchainhub"
   ]
  },
  {
   "cell_type": "code",
   "execution_count": 3,
   "id": "2c5c4d3f-12ee-4ddf-bb31-b14577df1610",
   "metadata": {},
   "outputs": [],
   "source": [
    "from dotenv import load_dotenv\n",
    "import os\n",
    "\n",
    "from langchain_community.graphs import Neo4jGraph\n",
    "\n",
    "# Warning control\n",
    "import warnings\n",
    "warnings.filterwarnings(\"ignore\")"
   ]
  },
  {
   "cell_type": "code",
   "execution_count": 4,
   "id": "2c7e7f15-ae74-4b56-a023-f9ffad3b32ab",
   "metadata": {},
   "outputs": [],
   "source": [
    "load_dotenv('.env', override=True)\n",
    "NEO4J_URI = os.getenv('NEO4J_URI')\n",
    "NEO4J_USERNAME = os.getenv('NEO4J_USERNAME')\n",
    "NEO4J_PASSWORD = os.getenv('NEO4J_PASSWORD')\n",
    "NEO4J_DATABASE = os.getenv('NEO4J_DATABASE')\n",
    "OPENAI_API_KEY = os.getenv('OPENAI_API_KEY')\n",
    "OPENAI_MODEL = \"gpt-3.5-turbo\"\n"
   ]
  },
  {
   "cell_type": "code",
   "execution_count": 5,
   "id": "632d3dcd-4914-493b-89c9-62c00d26c219",
   "metadata": {},
   "outputs": [],
   "source": [
    "kg = Neo4jGraph(\n",
    "    url=NEO4J_URI, username=NEO4J_USERNAME, password=NEO4J_PASSWORD, database=NEO4J_DATABASE\n",
    ")"
   ]
  },
  {
   "cell_type": "code",
   "execution_count": 6,
   "id": "f4a18adb-4f50-40c7-883f-f47053a44bfb",
   "metadata": {},
   "outputs": [],
   "source": [
    "cypher = \"\"\"\n",
    "  MATCH (n) \n",
    "  RETURN count(n)\n",
    "  \"\"\""
   ]
  },
  {
   "cell_type": "code",
   "execution_count": 7,
   "id": "753fe906-2c0e-493b-94dc-90eca4948aab",
   "metadata": {
    "colab": {
     "base_uri": "https://localhost:8080/"
    },
    "executionInfo": {
     "elapsed": 16623,
     "status": "ok",
     "timestamp": 1721324676423,
     "user": {
      "displayName": "TSU-NENG wang",
      "userId": "10252927790904004821"
     },
     "user_tz": -480
    },
    "id": "753fe906-2c0e-493b-94dc-90eca4948aab",
    "outputId": "7f2e4d35-3502-42bd-e00a-52d800855aca"
   },
   "outputs": [
    {
     "data": {
      "text/plain": [
       "[{'count(n)': 2384331}]"
      ]
     },
     "execution_count": 7,
     "metadata": {},
     "output_type": "execute_result"
    }
   ],
   "source": [
    "result = kg.query(cypher)\n",
    "result"
   ]
  },
  {
   "cell_type": "code",
   "execution_count": 8,
   "id": "563e249d-dcc8-4853-8fa9-9fe51756d6a4",
   "metadata": {
    "executionInfo": {
     "elapsed": 5,
     "status": "ok",
     "timestamp": 1721324676424,
     "user": {
      "displayName": "TSU-NENG wang",
      "userId": "10252927790904004821"
     },
     "user_tz": -480
    },
    "id": "563e249d-dcc8-4853-8fa9-9fe51756d6a4"
   },
   "outputs": [
    {
     "name": "stdout",
     "output_type": "stream",
     "text": [
      "Node properties:\n",
      "Anatomy {uberon_id: STRING, anatomy_id: STRING, name: STRING, umls_cui: STRING, bto_id: STRING, mesh_id: STRING, cl_id: STRING}\n",
      "Disease {disease_id: STRING, name: STRING, icd_10: STRING, umls_cui: STRING, do_id: STRING, mesh_id: STRING, icd_9: STRING, pharmgkb_id: STRING, kegg_id: STRING, iDISK_id: STRING, omim_id: STRING}\n",
      "Drug {umls_cui: STRING, name: STRING, mesh_id: STRING, drugbank_id: STRING, CID: STRING, kegg_id: STRING, pharmgkb_id: STRING, drug_id: STRING, iDISK_id: STRING}\n",
      "Dsp {dsp_id: STRING, iDISK_id: STRING, name: STRING}\n",
      "Gene {ensembl_id: STRING, ncbi_id: STRING, symbol: STRING, hgnc_id: STRING, gene_id: STRING, pharmgkb_id: STRING}\n",
      "Molecule {inchi: STRING, molecule_id: STRING, chembl_id: STRING, chebi_id: STRING, drugbank_id: STRING}\n",
      "Pathway {reactome_id: STRING, pathway_id: STRING, go_id: STRING, name: STRING, kegg_id: STRING}\n",
      "Sdsi {name: STRING, sdsi_id: STRING, iDISK_id: STRING}\n",
      "SideEffect {name: STRING, umls_cui: STRING, side_effect_id: STRING}\n",
      "Symptom {umls_cui: STRING, name: STRING, mesh_id: STRING, symptom_id: STRING, iDISK_id: STRING}\n",
      "Tc {umls_cui: STRING, tc_id: STRING, iDISK_id: STRING, name: STRING}\n",
      "Relationship properties:\n",
      "Gene_Anatomy {Express: STRING, Absent: STRING, Source: STRING}\n",
      "Disease_Pathway {Source: STRING, Association: STRING}\n",
      "Sdsi_Symptom {Source: STRING, has_adverse_reaction: STRING}\n",
      "Sdsi_Drug {Source: STRING, interacts_with: STRING}\n",
      "Drug_Pathway {Source: STRING, Association: STRING}\n",
      "Disease_Symptom {Source: STRING, Present: STRING}\n",
      "Sdsi_Anatomy {Source: STRING, has_adverse_effect_on: STRING}\n",
      "Sdsi_Disease {Source: STRING, is_effective_for: STRING}\n",
      "Sdsi_Tc {Source: STRING, has_therapeutic_class: STRING}\n",
      "Disease_Disease {Source: STRING, is_a: STRING, Resemble: STRING}\n",
      "Gene_Pathway {Source: STRING, Reaction: STRING, Associate: STRING}\n",
      "Drug_SideEffect {Source: STRING, Cause: STRING}\n",
      "Dsp_Sdsi {has_ingredient: STRING, Source: STRING}\n",
      "Gene_Gene {Associate: STRING, Regulates: STRING, regulation: STRING, association: STRING, colocalization: STRING, Covaries: STRING, Interacts: STRING, Source: STRING}\n",
      "Drug_Gene {Source: STRING, transport_or_channels: STRING, enzyme_activity: STRING, physical_association: STRING, Associate: STRING, antagonism_or_blocking: STRING, increases_expression_or_production: STRING, binding_or_ligand_or_esp_receptors: STRING, decreases_expression_or_production: STRING, affects_expression_or_production_neutral: STRING, agonism_or_activation: STRING, inhibits: STRING, metabolism_or_pharmacokinetics: STRING, Downregulates: STRING, Upregulates: STRING, Binds: STRING, Interaction: STRING, Target: STRING, Transporter: STRING, Enzyme: STRING, Carrier: STRING}\n",
      "Drug_Drug {Source: STRING, Resemble: STRING, Interaction: STRING}\n",
      "Drug_Disease {treatment_or_therapy_or_including_investigatory: STRING, Associate: STRING, alleviates_or_reduces: STRING, Source: STRING, Palliates: STRING, Effect: STRING, Inferred_Relation: STRING, biomarkers_of_disease_progression: STRING, inhibits_cell_growth_or_esp_or_cancers: STRING, prevents_or_suppresses: STRING, role_in_disease_pathogenesis: STRING, Inference_Score: STRING}\n",
      "The relationships:\n",
      "(:Disease)-[:Disease_Disease]->(:Disease)\n",
      "(:Disease)-[:Disease_Pathway]->(:Pathway)\n",
      "(:Disease)-[:Disease_Symptom]->(:Symptom)\n",
      "(:Drug)-[:Drug_Gene]->(:Gene)\n",
      "(:Drug)-[:Drug_Disease]->(:Disease)\n",
      "(:Drug)-[:Drug_Drug]->(:Drug)\n",
      "(:Drug)-[:Drug_SideEffect]->(:SideEffect)\n",
      "(:Drug)-[:Drug_Pathway]->(:Pathway)\n",
      "(:Dsp)-[:Dsp_Sdsi]->(:Sdsi)\n",
      "(:Gene)-[:Gene_Anatomy]->(:Anatomy)\n",
      "(:Gene)-[:Gene_Pathway]->(:Pathway)\n",
      "(:Gene)-[:Gene_Gene]->(:Gene)\n",
      "(:Sdsi)-[:Sdsi_Tc]->(:Tc)\n",
      "(:Sdsi)-[:Sdsi_Drug]->(:Drug)\n",
      "(:Sdsi)-[:Sdsi_Anatomy]->(:Anatomy)\n",
      "(:Sdsi)-[:Sdsi_Disease]->(:Disease)\n",
      "(:Sdsi)-[:Sdsi_Symptom]->(:Symptom)\n"
     ]
    }
   ],
   "source": [
    "from langchain_community.graphs import Neo4jGraph\n",
    "\n",
    "graph = Neo4jGraph()\n",
    "#graph.refresh_schema()\n",
    "print(graph.schema)"
   ]
  },
  {
   "cell_type": "code",
   "execution_count": 9,
   "id": "dcd83297-a5d8-4b87-8666-fc9f7cc918aa",
   "metadata": {},
   "outputs": [
    {
     "name": "stdout",
     "output_type": "stream",
     "text": [
      "\n",
      "\n",
      "\u001b[1m> Entering new GraphCypherQAChain chain...\u001b[0m\n",
      "Generated Cypher:\n",
      "\u001b[32;1m\u001b[1;3mMATCH (g:Gene {symbol: \"BRCA1\"}) RETURN g\u001b[0m\n",
      "Full Context:\n",
      "\u001b[32;1m\u001b[1;3m[{'g': {'symbol': 'BRCA1', 'hgnc_id': '1100.0', 'pharmgkb_id': 'PA25411', 'ensembl_id': 'ENSG00000012048', 'ncbi_id': '672.0', 'gene_id': 'HGNC:1100'}}, {'g': {'symbol': 'BRCA1', 'ensembl_id': 'ENSECAG00000016974', 'ncbi_id': '100051990.0', 'gene_id': 'NCBI:100051990'}}, {'g': {'symbol': 'BRCA1', 'ensembl_id': 'ENSGALG00000002781', 'ncbi_id': '373983.0', 'gene_id': 'NCBI:373983'}}, {'g': {'symbol': 'BRCA1', 'ncbi_id': '403437.0', 'gene_id': 'NCBI:403437'}}]\u001b[0m\n",
      "\n",
      "\u001b[1m> Finished chain.\u001b[0m\n"
     ]
    },
    {
     "data": {
      "text/plain": [
       "{'query': 'What is BRCA1?',\n",
       " 'result': 'BRCA1 is a gene with various identifiers such as symbol, hgnc_id, pharmgkb_id, ensembl_id, and ncbi_id.'}"
      ]
     },
     "execution_count": 9,
     "metadata": {},
     "output_type": "execute_result"
    }
   ],
   "source": [
    "from langchain.chains import GraphCypherQAChain\n",
    "from langchain_openai import ChatOpenAI\n",
    "\n",
    "llm = ChatOpenAI(model=OPENAI_MODEL, temperature=0)\n",
    "chain = GraphCypherQAChain.from_llm(graph=graph, llm=llm, verbose=True)\n",
    "response = chain.invoke({\"query\": \"What is BRCA1?\"})\n",
    "response"
   ]
  },
  {
   "cell_type": "code",
   "execution_count": 11,
   "id": "0130709b-b4c3-465a-9e7f-e643ddf9b544",
   "metadata": {},
   "outputs": [
    {
     "name": "stdout",
     "output_type": "stream",
     "text": [
      "\n",
      "\n",
      "\u001b[1m> Entering new GraphCypherQAChain chain...\u001b[0m\n",
      "Generated Cypher:\n",
      "\u001b[32;1m\u001b[1;3mMATCH (g:Gene {symbol: \"BRCA1\"})-[:Gene_Anatomy|Gene_Pathway|Gene_Gene]->(related)\n",
      "RETURN g.pharmgkb_id, related;\u001b[0m\n",
      "Full Context:\n",
      "\u001b[32;1m\u001b[1;3m[{'g.pharmgkb_id': 'PA25411', 'related': {'name': 'FL cell', 'bto_id': 'BTO:0003130', 'anatomy_id': 'BTO:0003130'}}, {'g.pharmgkb_id': 'PA25411', 'related': {'name': 'lung cancer cell line', 'bto_id': 'BTO:0000762', 'anatomy_id': 'BTO:0000762'}}, {'g.pharmgkb_id': 'PA25411', 'related': {'name': 'Calu-6 cell', 'bto_id': 'BTO:0002235', 'anatomy_id': 'BTO:0002235'}}, {'g.pharmgkb_id': 'PA25411', 'related': {'name': 'monocytic leukemia cell line', 'bto_id': 'BTO:0002332', 'anatomy_id': 'BTO:0002332'}}, {'g.pharmgkb_id': 'PA25411', 'related': {'uberon_id': 'UBERON:0007610', 'name': 'tibial artery', 'umls_cui': 'C0085427', 'anatomy_id': 'UBERON:0007610'}}, {'g.pharmgkb_id': 'PA25411', 'related': {'name': 'T-24 cell', 'bto_id': 'BTO:0001345', 'anatomy_id': 'BTO:0001345'}}, {'g.pharmgkb_id': 'PA25411', 'related': {'name': 'NIH-3T3 cell', 'bto_id': 'BTO:0000944', 'anatomy_id': 'BTO:0000944'}}, {'g.pharmgkb_id': 'PA25411', 'related': {'uberon_id': 'UBERON:0000428', 'name': 'prostate epithelium', 'umls_cui': 'C1179826', 'bto_id': 'BTO:0002397', 'anatomy_id': 'UBERON:0000428'}}, {'g.pharmgkb_id': 'PA25411', 'related': {'name': 'SiHa cell', 'bto_id': 'BTO:0002210', 'anatomy_id': 'BTO:0002210'}}, {'g.pharmgkb_id': 'PA25411', 'related': {'uberon_id': 'UBERON:0000167', 'name': 'oral cavity', 'umls_cui': 'C0226896', 'anatomy_id': 'UBERON:0000167'}}]\u001b[0m\n",
      "\n",
      "\u001b[1m> Finished chain.\u001b[0m\n"
     ]
    },
    {
     "data": {
      "text/plain": [
       "{'query': 'can you show me the pharmgkb_id of BRCA1 and its related informations?',\n",
       " 'result': \"I don't know the answer.\"}"
      ]
     },
     "execution_count": 11,
     "metadata": {},
     "output_type": "execute_result"
    }
   ],
   "source": [
    "chain = GraphCypherQAChain.from_llm(\n",
    "    graph=graph, llm=llm, verbose=True, validate_cypher=True\n",
    ")\n",
    "response = chain.invoke({\"query\": \"can you show me the pharmgkb_id of BRCA1 and its related informations?\"})\n",
    "response"
   ]
  },
  {
   "cell_type": "code",
   "execution_count": 12,
   "id": "b5a6e6d0-0ed8-4a7f-818c-695bbe3ead0b",
   "metadata": {},
   "outputs": [
    {
     "name": "stdout",
     "output_type": "stream",
     "text": [
      "\n",
      "\n",
      "\u001b[1m> Entering new GraphCypherQAChain chain...\u001b[0m\n",
      "Generated Cypher:\n",
      "\u001b[32;1m\u001b[1;3mMATCH (:Disease)-[:Disease_Pathway]->(p:Pathway)\n",
      "RETURN p.name\u001b[0m\n",
      "Full Context:\n",
      "\u001b[32;1m\u001b[1;3m[{'p.name': 'Glycolysis / Gluconeogenesis'}, {'p.name': 'Glycolysis / Gluconeogenesis'}, {'p.name': 'Glycolysis / Gluconeogenesis'}, {'p.name': 'Glycolysis / Gluconeogenesis'}, {'p.name': 'Glycolysis / Gluconeogenesis'}, {'p.name': 'Glycolysis / Gluconeogenesis'}, {'p.name': 'Glycolysis / Gluconeogenesis'}, {'p.name': 'Glycolysis / Gluconeogenesis'}, {'p.name': 'Glycolysis / Gluconeogenesis'}, {'p.name': 'Glycolysis / Gluconeogenesis'}]\u001b[0m\n",
      "\n",
      "\u001b[1m> Finished chain.\u001b[0m\n"
     ]
    },
    {
     "data": {
      "text/plain": [
       "{'query': 'what are the passways in the previous querys, can you list for me?',\n",
       " 'result': 'The pathways in the previous queries are Glycolysis / Gluconeogenesis.'}"
      ]
     },
     "execution_count": 12,
     "metadata": {},
     "output_type": "execute_result"
    }
   ],
   "source": [
    "chain.invoke({\"query\": \"what are the passways in the previous query, can you list for me?\"})"
   ]
  },
  {
   "cell_type": "code",
   "execution_count": 13,
   "id": "f8715596-0c67-4634-8f6b-1d7ecf4a0aba",
   "metadata": {},
   "outputs": [
    {
     "name": "stdout",
     "output_type": "stream",
     "text": [
      "\n",
      "\n",
      "\u001b[1m> Entering new GraphCypherQAChain chain...\u001b[0m\n",
      "Generated Cypher:\n",
      "\u001b[32;1m\u001b[1;3mMATCH (:Pathway)<-[:Drug_Pathway]-(d:Drug)\n",
      "RETURN d.drug_id\u001b[0m\n",
      "Full Context:\n",
      "\u001b[32;1m\u001b[1;3m[{'d.drug_id': 'KEGG:D00195'}, {'d.drug_id': 'DrugBank:DB00313'}, {'d.drug_id': 'DrugBank:DB00215'}, {'d.drug_id': 'DrugBank:DB00531'}, {'d.drug_id': 'DrugBank:DB00949'}, {'d.drug_id': 'DrugBank:DB01227'}, {'d.drug_id': 'DrugBank:DB00776'}, {'d.drug_id': 'DrugBank:DB00295'}, {'d.drug_id': 'DrugBank:DB01181'}, {'d.drug_id': 'DrugBank:DB00333'}]\u001b[0m\n",
      "\n",
      "\u001b[1m> Finished chain.\u001b[0m\n"
     ]
    },
    {
     "data": {
      "text/plain": [
       "{'query': 'Can you use those passways to find associated drugs or drugid.',\n",
       " 'result': 'Yes, you can use those pathways to find associated drugs or drug IDs.'}"
      ]
     },
     "execution_count": 13,
     "metadata": {},
     "output_type": "execute_result"
    }
   ],
   "source": [
    "chain.invoke({\"query\": \"Can you use those passways to find associated drugs or drugid.\"})"
   ]
  },
  {
   "cell_type": "code",
   "execution_count": 29,
   "id": "0773bed6-df0a-449b-9948-628cca8382a0",
   "metadata": {},
   "outputs": [
    {
     "name": "stdout",
     "output_type": "stream",
     "text": [
      "\n",
      "\n",
      "\u001b[1m> Entering new GraphCypherQAChain chain...\u001b[0m\n",
      "Generated Cypher:\n",
      "\u001b[32;1m\u001b[1;3mMATCH (d:Drug)\n",
      "RETURN d.name, d.drug_id;\u001b[0m\n",
      "Full Context:\n",
      "\u001b[32;1m\u001b[1;3m[{'d.name': 'Lepirudin', 'd.drug_id': 'DrugBank:DB00001'}, {'d.name': 'Cetuximab', 'd.drug_id': 'DrugBank:DB00002'}, {'d.name': 'Dornase alfa', 'd.drug_id': 'DrugBank:DB00003'}, {'d.name': 'Denileukin diftitox', 'd.drug_id': 'DrugBank:DB00004'}, {'d.name': 'Etanercept', 'd.drug_id': 'DrugBank:DB00005'}, {'d.name': 'Bivalirudin', 'd.drug_id': 'DrugBank:DB00006'}, {'d.name': 'Leuprolide', 'd.drug_id': 'DrugBank:DB00007'}, {'d.name': 'Peginterferon alfa-2a', 'd.drug_id': 'DrugBank:DB00008'}, {'d.name': 'Alteplase', 'd.drug_id': 'DrugBank:DB00009'}, {'d.name': 'Sermorelin', 'd.drug_id': 'DrugBank:DB00010'}]\u001b[0m\n",
      "\n",
      "\u001b[1m> Finished chain.\u001b[0m\n"
     ]
    },
    {
     "data": {
      "text/plain": [
       "{'query': 'What are the drug name, and background of those drug_id',\n",
       " 'result': 'Lepirudin, Cetuximab, Dornase alfa, Denileukin diftitox, Etanercept, Bivalirudin, Leuprolide, Peginterferon alfa-2a, Alteplase, Sermorelin are the drug names associated with the provided drug_id.'}"
      ]
     },
     "execution_count": 29,
     "metadata": {},
     "output_type": "execute_result"
    }
   ],
   "source": [
    "chain.invoke({\"query\": \"What are the drug name, and background of those drug_id\"})"
   ]
  },
  {
   "cell_type": "code",
   "execution_count": 32,
   "id": "e94c2b80-9cca-4fa8-92b0-469b28cf8765",
   "metadata": {},
   "outputs": [
    {
     "name": "stdout",
     "output_type": "stream",
     "text": [
      "\n",
      "\n",
      "\u001b[1m> Entering new GraphCypherQAChain chain...\u001b[0m\n",
      "Generated Cypher:\n",
      "\u001b[32;1m\u001b[1;3mMATCH (d:Drug)\n",
      "RETURN d.name, d.chembl_id\u001b[0m\n",
      "Full Context:\n",
      "\u001b[32;1m\u001b[1;3m[{'d.name': 'Lepirudin', 'd.chembl_id': None}, {'d.name': 'Cetuximab', 'd.chembl_id': None}, {'d.name': 'Dornase alfa', 'd.chembl_id': None}, {'d.name': 'Denileukin diftitox', 'd.chembl_id': None}, {'d.name': 'Etanercept', 'd.chembl_id': None}, {'d.name': 'Bivalirudin', 'd.chembl_id': None}, {'d.name': 'Leuprolide', 'd.chembl_id': None}, {'d.name': 'Peginterferon alfa-2a', 'd.chembl_id': None}, {'d.name': 'Alteplase', 'd.chembl_id': None}, {'d.name': 'Sermorelin', 'd.chembl_id': None}]\u001b[0m\n",
      "\n",
      "\u001b[1m> Finished chain.\u001b[0m\n"
     ]
    },
    {
     "data": {
      "text/plain": [
       "{'query': 'can you show me the chemical formular of those drug?',\n",
       " 'result': \"I don't know the chemical formula of those drugs.\"}"
      ]
     },
     "execution_count": 32,
     "metadata": {},
     "output_type": "execute_result"
    }
   ],
   "source": [
    "chain.invoke({\"query\": \"can you show me the chemical formular of those drug?\"})\n",
    "# The current database did not store more information from the drugbank, but we can use native chatGPT to get more useful information after this point."
   ]
  },
  {
   "cell_type": "code",
   "execution_count": 41,
   "id": "dec4398b-d140-4e19-b617-121540776a94",
   "metadata": {},
   "outputs": [
    {
     "name": "stdout",
     "output_type": "stream",
     "text": [
      "Overwriting app.py\n"
     ]
    }
   ],
   "source": [
    "%%writefile app.py\n",
    "\n",
    "import os\n",
    "from dotenv import load_dotenv\n",
    "import streamlit as st\n",
    "from streamlit.runtime.scriptrunner.script_run_context import get_script_run_ctx\n",
    "\n",
    "# Load environment variables from .env file\n",
    "load_dotenv()\n",
    "\n",
    "\n",
    "from langchain_openai import ChatOpenAI\n",
    "from langchain_openai import OpenAIEmbeddings\n",
    "from langchain_community.graphs import Neo4jGraph\n",
    "\n",
    "\n",
    "# Initialize OpenAI and Neo4j components with environment variables\n",
    "OPENAI_API_KEY = os.getenv(\"OPENAI_API_KEY\")\n",
    "OPENAI_MODEL = os.getenv(\"OPENAI_MODEL\", \"gpt-3.5-turbo\")\n",
    "NEO4J_URI = os.getenv(\"NEO4J_URI\")\n",
    "NEO4J_USERNAME = os.getenv(\"NEO4J_USERNAME\")\n",
    "NEO4J_PASSWORD = os.getenv(\"NEO4J_PASSWORD\")\n",
    "LANGCHAIN_API_KEY = os.getenv(\"LANGCHAIN_API_KEY\")\n",
    "\n",
    "# Check if environment variables are set\n",
    "if not all([OPENAI_API_KEY, OPENAI_MODEL, NEO4J_URI, NEO4J_USERNAME, NEO4J_PASSWORD]):\n",
    "    st.error(\"Missing environment variables. Please set OPENAI_API_KEY, NEO4J_URI, NEO4J_USERNAME, and NEO4J_PASSWORD.\")\n",
    "\n",
    "\n",
    "llm = ChatOpenAI(\n",
    "    openai_api_key=OPENAI_API_KEY,\n",
    "    model=OPENAI_MODEL,\n",
    ")\n",
    "\n",
    "embeddings = OpenAIEmbeddings(\n",
    "    openai_api_key=OPENAI_API_KEY\n",
    ")\n",
    "\n",
    "graph = Neo4jGraph(\n",
    "    url=NEO4J_URI,\n",
    "    username=NEO4J_USERNAME,\n",
    "    password=NEO4J_PASSWORD,\n",
    ")\n",
    "\n",
    "import streamlit as st\n",
    "from streamlit.runtime.scriptrunner.script_run_context import get_script_run_ctx\n",
    "\n",
    "# tag::write_message[]\n",
    "def write_message(role, content, save = True):\n",
    "    \"\"\"\n",
    "    This is a helper function that saves a message to the\n",
    "     session state and then writes a message to the UI\n",
    "    \"\"\"\n",
    "    # Append to session state\n",
    "    if save:\n",
    "        st.session_state.messages.append({\"role\": role, \"content\": content})\n",
    "\n",
    "    # Write to UI\n",
    "    with st.chat_message(role):\n",
    "        st.markdown(content)\n",
    "# end::write_message[]\n",
    "\n",
    "# tag::get_session_id[]\n",
    "def get_session_id():\n",
    "    return get_script_run_ctx().session_id\n",
    "# end::get_session_id[]\n",
    "\n",
    "import streamlit as st\n",
    "# Create a movie chat chain\n",
    "from langchain_core.prompts import ChatPromptTemplate\n",
    "from langchain.schema import StrOutputParser\n",
    "\n",
    "chat_prompt = ChatPromptTemplate.from_messages(\n",
    "    [\n",
    "        (\"system\", \"You are a drugs expert providing associated drug information from the target gene user provided.\"),\n",
    "        (\"human\", \"{input}\"),\n",
    "    ]\n",
    ")\n",
    "\n",
    "movie_chat = chat_prompt | llm | StrOutputParser()\n",
    "\n",
    "# Create a set of tools\n",
    "from langchain.tools import Tool\n",
    "\n",
    "tools = [\n",
    "    Tool.from_function(\n",
    "        name=\"General Chat\",\n",
    "        description=\"For general medical database chat\",\n",
    "        func=movie_chat.invoke,\n",
    "    )\n",
    "]\n",
    "\n",
    "# Create chat history callback\n",
    "from langchain_community.chat_message_histories import Neo4jChatMessageHistory\n",
    "\n",
    "def get_memory(session_id):\n",
    "    return Neo4jChatMessageHistory(session_id=session_id, graph=graph)\n",
    "\n",
    "# Create the agent\n",
    "from langchain.agents import AgentExecutor, create_react_agent\n",
    "from langchain_core.runnables.history import RunnableWithMessageHistory\n",
    "from langchain import hub\n",
    "\n",
    "\n",
    "from langchain_core.prompts import PromptTemplate\n",
    "\n",
    "agent_prompt = hub.pull(\"hwchase17/react-chat\", api_key=LANGCHAIN_API_KEY)\n",
    "\n",
    "agent = create_react_agent(llm, tools, agent_prompt)\n",
    "agent_executor = AgentExecutor(\n",
    "    agent=agent,\n",
    "    tools=tools,\n",
    "    verbose=True\n",
    "    )\n",
    "\n",
    "chat_agent = RunnableWithMessageHistory(\n",
    "    agent_executor,\n",
    "    get_memory,\n",
    "    input_messages_key=\"input\",\n",
    "    history_messages_key=\"chat_history\",\n",
    ")\n",
    "\n",
    "# Create a handler to call the agent\n",
    "# from utils import get_session_id\n",
    "\n",
    "def generate_response(user_input):\n",
    "    \"\"\"\n",
    "    Create a handler that calls the Conversational agent\n",
    "    and returns a response to be rendered in the UI\n",
    "    \"\"\"\n",
    "\n",
    "    response = chat_agent.invoke(\n",
    "        {\"input\": user_input},\n",
    "        {\"configurable\": {\"session_id\": get_session_id()}},)\n",
    "\n",
    "    return response['output']\n",
    "\n",
    "# Page Config\n",
    "st.set_page_config(\n",
    "    page_title=\"Medical Database Chatbot\",\n",
    "    page_icon=\"🧬\",\n",
    "    layout=\"wide\",\n",
    "    initial_sidebar_state=\"collapsed\",\n",
    "    menu_items={\n",
    "        'About': 'This app provides drug information based on gene input.'\n",
    "    }\n",
    ")\n",
    "\n",
    "# Set up Session State\n",
    "if \"messages\" not in st.session_state:\n",
    "    st.session_state.messages = [\n",
    "        {\"role\": \"assistant\", \"content\": \"Hi, I'm Meda, a general medical database Chatbot!  How can I help you?\"},\n",
    "    ]\n",
    "\n",
    "# Submit handler\n",
    "def handle_submit(message):\n",
    "    \"\"\"\n",
    "    Submit handler:\n",
    "\n",
    "    context using data from Neo4j.\n",
    "    \"\"\"\n",
    "\n",
    "    # Handle the response\n",
    "    with st.spinner('Thinking...'):\n",
    "        # Call the agent\n",
    "        response = generate_response(message)\n",
    "        write_message('assistant', response)\n",
    "\n",
    "\n",
    "# Display messages in Session State\n",
    "for message in st.session_state.messages:\n",
    "    write_message(message['role'], message['content'], save=False)\n",
    "\n",
    "# Handle any user input\n",
    "if question := st.chat_input(\"What is up?\"):\n",
    "    # Display user message in chat message container\n",
    "    write_message('user', question)\n",
    "\n",
    "    # Generate a response\n",
    "    handle_submit(question)\n"
   ]
  },
  {
   "cell_type": "code",
   "execution_count": 42,
   "id": "6280bf3c-c44c-42db-9c9f-365f0555d947",
   "metadata": {},
   "outputs": [
    {
     "name": "stderr",
     "output_type": "stream",
     "text": [
      "2024-08-18 10:32:02.140 Port 8501 is already in use\n"
     ]
    },
    {
     "name": "stdout",
     "output_type": "stream",
     "text": [
      "Streamlit app is live at: NgrokTunnel: \"https://6d89-70-109-199-218.ngrok-free.app\" -> \"http://localhost:8501\"\n"
     ]
    }
   ],
   "source": [
    "import yaml\n",
    "import os\n",
    "from pyngrok import ngrok\n",
    "import subprocess\n",
    "import time\n",
    "\n",
    "# Terminate any existing ngrok processes\n",
    "ngrok.kill()\n",
    "\n",
    "# Path to the ngrok.yml file\n",
    "ngrok_config_path = os.path.expanduser(\"/Users/JerryYaw/Library/Application Support/ngrok/ngrok.yml\")\n",
    "\n",
    "# Load the ngrok.yml file\n",
    "try:\n",
    "    with open(ngrok_config_path, \"r\") as file:\n",
    "        ngrok_config = yaml.safe_load(file)\n",
    "except FileNotFoundError:\n",
    "    print(f\"Error: ngrok.yml file not found at {ngrok_config_path}\")\n",
    "    exit(1)\n",
    "except yaml.YAMLError as e:\n",
    "    print(f\"Error reading ngrok.yml file: {e}\")\n",
    "    exit(1)\n",
    "\n",
    "# Get the auth token from the configuration\n",
    "auth_token = ngrok_config.get(\"authtoken\")\n",
    "if not auth_token:\n",
    "    print(\"Error: Auth token not found in ngrok.yml file.\")\n",
    "    exit(1)\n",
    "\n",
    "# Start the Streamlit app\n",
    "process = subprocess.Popen(['streamlit', 'run', 'app.py', '--server.port', '8501'])\n",
    "\n",
    "# Optional: Wait for a short period to ensure Streamlit starts\n",
    "time.sleep(5)\n",
    "\n",
    "# Check if the Streamlit server is running\n",
    "def check_server():\n",
    "    import socket\n",
    "    with socket.socket(socket.AF_INET, socket.SOCK_STREAM) as s:\n",
    "        return s.connect_ex(('localhost', 8501)) == 0\n",
    "\n",
    "if check_server():\n",
    "    # Set the auth token and establish an ngrok tunnel\n",
    "    ngrok.set_auth_token(auth_token)\n",
    "    public_url = ngrok.connect(8501)\n",
    "    print(f\"Streamlit app is live at: {public_url}\")\n",
    "else:\n",
    "    print(\"Error: Streamlit server is not running on port 8501.\")\n"
   ]
  },
  {
   "cell_type": "code",
   "execution_count": null,
   "id": "50e69559-333a-4209-96e2-2ef9c6f911f1",
   "metadata": {},
   "outputs": [],
   "source": []
  }
 ],
 "metadata": {
  "colab": {
   "provenance": []
  },
  "kernelspec": {
   "display_name": "Python 3 (ipykernel)",
   "language": "python",
   "name": "python3"
  },
  "language_info": {
   "codemirror_mode": {
    "name": "ipython",
    "version": 3
   },
   "file_extension": ".py",
   "mimetype": "text/x-python",
   "name": "python",
   "nbconvert_exporter": "python",
   "pygments_lexer": "ipython3",
   "version": "3.11.8"
  }
 },
 "nbformat": 4,
 "nbformat_minor": 5
}
